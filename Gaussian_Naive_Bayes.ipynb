{
 "cells": [
  {
   "cell_type": "code",
   "execution_count": 110,
   "metadata": {},
   "outputs": [],
   "source": [
    "import numpy as np\n",
    "import pandas as pd\n",
    "import scipy.stats as s\n",
    "import matplotlib.pyplot as plt\n",
    "import seaborn as sns\n",
    "from sklearn.metrics import classification_report,accuracy_score,precision_score,recall_score"
   ]
  },
  {
   "cell_type": "code",
   "execution_count": 111,
   "metadata": {},
   "outputs": [],
   "source": [
    "class GaussianNB:\n",
    "    \"\"\"Intantiate a Gaussian Naive Bayes Object with the following parameters:\n",
    "    \n",
    "    feaures            : A dataframe consisting of continuous feaures, excluding labels\n",
    "    labels             : A series consisting of binary labels\n",
    "    data_split_ratio   : A tuple consisting of data splitting ratio\n",
    "    apply_pca          : Boolean value spacifying whether to apply PCA or not\n",
    "    n_components       : Number of Eigen Vectors having Non Zero values to keep\n",
    "    \"\"\"\n",
    "    \n",
    "    def __init__(xerox_copy,features,labels,data_split_ratio,apply_pca,n_components):\n",
    "        xerox_copy.binary_labels=np.array(labels).reshape(labels.shape[0],1)\n",
    "        xerox_copy.split_ratio=data_split_ratio\n",
    "        xerox_copy.n_principal_components=n_components\n",
    "        xerox_copy.unique_labels=list(labels.unique())\n",
    "        if apply_pca == True:\n",
    "            xerox_copy.X_new=xerox_copy.apply_dim_reduction(features,xerox_copy.n_principal_components)\n",
    "            \n",
    "    def apply_dim_reduction(xerox_copy,data,n_components):\n",
    "        X=np.array(data)\n",
    "        mu=np.mean(X,axis=0)\n",
    "        mu=mu.reshape(-1,mu.shape[0])\n",
    "        X_dash=X-mu\n",
    "        sigma_hat=(1/data.shape[0])*np.matmul(X_dash.T,X_dash)\n",
    "        sigma_hat_decompose=np.linalg.svd(sigma_hat)\n",
    "        Q=sigma_hat_decompose[0]\n",
    "        Q_tilda=Q[:,0:n_components]\n",
    "        X_new=np.matmul(X_dash,Q_tilda)\n",
    "        return X_new\n",
    "    \n",
    "    def data_splitting(xerox_copy):\n",
    "        new_data=pd.DataFrame(data=xerox_copy.X_new)\n",
    "        new_data['label']=xerox_copy.binary_labels\n",
    "        training_data_len=int(xerox_copy.split_ratio[0]*new_data.shape[0])\n",
    "        neg_training_data=new_data[new_data['label']==xerox_copy.unique_labels[0]].iloc[0:training_data_len//2]\n",
    "        pos_training_data=new_data[new_data['label']==xerox_copy.unique_labels[1]].iloc[0:training_data_len//2]\n",
    "        training_data=pd.concat([neg_training_data,pos_training_data])\n",
    "        cv_data_len= int(xerox_copy.split_ratio[1]*new_data.shape[0])\n",
    "        neg_remaining_data=new_data[new_data['label']==xerox_copy.unique_labels[0]].iloc[training_data_len//2:]\n",
    "        pos_remaining_data=new_data[new_data['label']==xerox_copy.unique_labels[1]].iloc[training_data_len//2:]\n",
    "        remaining_data=pd.concat([neg_remaining_data,pos_remaining_data])\n",
    "        cv_data=remaining_data.iloc[0:cv_data_len]\n",
    "        testing_data=remaining_data.iloc[cv_data_len:]\n",
    "        return training_data,cv_data,testing_data\n",
    "    \n",
    "    def train_gaussian_nb(xerox_copy,data):\n",
    "        mu_hat_pos=np.array(data[data['label']==xerox_copy.unique_labels[1]].iloc[:,0:xerox_copy.n_principal_components].mean())\n",
    "        sigma_hat_pos=np.array(data[data['label']==xerox_copy.unique_labels[1]].iloc[:,0:xerox_copy.n_principal_components].cov())\n",
    "        mu_hat_neg=np.array(data[data['label']==xerox_copy.unique_labels[0]].iloc[:,0:xerox_copy.n_principal_components].mean())\n",
    "        sigma_hat_neg=np.array(data[data['label']==xerox_copy.unique_labels[0]].iloc[:,0:xerox_copy.n_principal_components].cov())\n",
    "        xerox_copy.neg_likelihood_params=(mu_hat_neg,sigma_hat_neg)\n",
    "        xerox_copy.pos_likelihood_params=(mu_hat_pos,sigma_hat_pos)\n",
    "        \n",
    "        \n",
    "    def evaluate(xerox_copy,data):\n",
    "        inputs=np.array(data.iloc[:,0:xerox_copy.n_principal_components])\n",
    "        posterior_pos=s.multivariate_normal.pdf(inputs,xerox_copy.pos_likelihood_params[0],xerox_copy.pos_likelihood_params[1])\n",
    "        posterior_neg=s.multivariate_normal.pdf(inputs,xerox_copy.neg_likelihood_params[0],xerox_copy.neg_likelihood_params[1])\n",
    "        boolean_mask=posterior_pos>posterior_neg\n",
    "        predicted_category=pd.Series(boolean_mask)\n",
    "        predicted_category.replace(to_replace=[False,True],value=[xerox_copy.unique_labels[0],xerox_copy.unique_labels[1]],inplace=True)\n",
    "        predicted_results=np.array(predicted_category) \n",
    "        actual_results=np.array(data['label'])\n",
    "        testing_accuracy=np.count_nonzero(predicted_category==actual_results)/actual_results.shape[0]\n",
    "        print(classification_report(actual_results,predicted_results,testing_accuracy,target_names=xerox_copy.unique_labels))\n",
    "        \n",
    "        "
   ]
  },
  {
   "cell_type": "code",
   "execution_count": 112,
   "metadata": {},
   "outputs": [
    {
     "name": "stdout",
     "output_type": "stream",
     "text": [
      "goint to run a module as a script\n"
     ]
    }
   ],
   "source": [
    "if __name__==\"__main__\":\n",
    "    print('goint to run a module as a script')"
   ]
  },
  {
   "cell_type": "code",
   "execution_count": null,
   "metadata": {},
   "outputs": [],
   "source": []
  }
 ],
 "metadata": {
  "kernelspec": {
   "display_name": "Python 3",
   "language": "python",
   "name": "python3"
  },
  "language_info": {
   "codemirror_mode": {
    "name": "ipython",
    "version": 3
   },
   "file_extension": ".py",
   "mimetype": "text/x-python",
   "name": "python",
   "nbconvert_exporter": "python",
   "pygments_lexer": "ipython3",
   "version": "3.7.6"
  }
 },
 "nbformat": 4,
 "nbformat_minor": 4
}
